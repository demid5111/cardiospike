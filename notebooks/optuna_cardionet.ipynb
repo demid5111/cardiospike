{
 "cells": [
  {
   "cell_type": "code",
   "execution_count": 13,
   "id": "1214c2c5",
   "metadata": {},
   "outputs": [],
   "source": [
    "import optuna\n",
    "\n",
    "from cardiospike.models.cardio_net.search import OPTUNA_STORAGE_URL"
   ]
  },
  {
   "cell_type": "code",
   "execution_count": 14,
   "id": "f04bccee",
   "metadata": {},
   "outputs": [],
   "source": [
    "study = optuna.load_study(\n",
    "    study_name=f\"cardiospike/CardioNet/window=17-v0\",\n",
    "    storage=OPTUNA_STORAGE_URL\n",
    ")"
   ]
  },
  {
   "cell_type": "code",
   "execution_count": 17,
   "id": "2e606a17",
   "metadata": {},
   "outputs": [
    {
     "data": {
      "text/plain": [
       "19"
      ]
     },
     "execution_count": 17,
     "metadata": {},
     "output_type": "execute_result"
    }
   ],
   "source": [
    "len(study.trials)"
   ]
  },
  {
   "cell_type": "code",
   "execution_count": 15,
   "id": "7b76bde0",
   "metadata": {},
   "outputs": [
    {
     "data": {
      "text/plain": [
       "0.823941"
      ]
     },
     "execution_count": 15,
     "metadata": {},
     "output_type": "execute_result"
    }
   ],
   "source": [
    "study.best_trial.values[0]"
   ]
  },
  {
   "cell_type": "code",
   "execution_count": 16,
   "id": "eb821c79",
   "metadata": {},
   "outputs": [
    {
     "data": {
      "text/plain": [
       "{'alpha': 0.527912,\n",
       " 'channels': 21,\n",
       " 'lr': 0.000876121,\n",
       " 'step_ahead': 3,\n",
       " 'top_classifier_units': 273}"
      ]
     },
     "execution_count": 16,
     "metadata": {},
     "output_type": "execute_result"
    }
   ],
   "source": [
    "study.best_trial.params"
   ]
  },
  {
   "cell_type": "code",
   "execution_count": null,
   "id": "f5d625c9",
   "metadata": {},
   "outputs": [],
   "source": []
  }
 ],
 "metadata": {
  "kernelspec": {
   "display_name": "Python 3",
   "language": "python",
   "name": "python3"
  },
  "language_info": {
   "codemirror_mode": {
    "name": "ipython",
    "version": 3
   },
   "file_extension": ".py",
   "mimetype": "text/x-python",
   "name": "python",
   "nbconvert_exporter": "python",
   "pygments_lexer": "ipython3",
   "version": "3.8.6"
  }
 },
 "nbformat": 4,
 "nbformat_minor": 5
}
