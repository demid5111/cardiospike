{
 "cells": [
  {
   "cell_type": "code",
   "execution_count": 1,
   "id": "8c801073",
   "metadata": {},
   "outputs": [],
   "source": [
    "import optuna\n",
    "from cardiospike.models.cardio_net.search import OPTUNA_STORAGE_URL"
   ]
  },
  {
   "cell_type": "code",
   "execution_count": 2,
   "id": "e8abba94",
   "metadata": {},
   "outputs": [],
   "source": [
    "study = optuna.load_study(\n",
    "    study_name=f\"cardiospike/CardioNet/window=17-v0\",\n",
    "    storage=OPTUNA_STORAGE_URL\n",
    ")"
   ]
  },
  {
   "cell_type": "code",
   "execution_count": 3,
   "id": "86cb650d",
   "metadata": {},
   "outputs": [
    {
     "data": {
      "text/plain": [
       "0.803617"
      ]
     },
     "execution_count": 3,
     "metadata": {},
     "output_type": "execute_result"
    }
   ],
   "source": [
    "study.best_trial.values[0]"
   ]
  },
  {
   "cell_type": "code",
   "execution_count": null,
   "id": "076a3d58",
   "metadata": {},
   "outputs": [],
   "source": []
  }
 ],
 "metadata": {
  "kernelspec": {
   "display_name": "Python 3",
   "language": "python",
   "name": "python3"
  },
  "language_info": {
   "codemirror_mode": {
    "name": "ipython",
    "version": 3
   },
   "file_extension": ".py",
   "mimetype": "text/x-python",
   "name": "python",
   "nbconvert_exporter": "python",
   "pygments_lexer": "ipython3",
   "version": "3.8.6"
  }
 },
 "nbformat": 4,
 "nbformat_minor": 5
}
