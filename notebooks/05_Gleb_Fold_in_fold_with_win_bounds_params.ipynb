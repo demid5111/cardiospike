{
 "cells": [
  {
   "cell_type": "code",
   "execution_count": 1,
   "id": "817c7bd3",
   "metadata": {},
   "outputs": [],
   "source": [
    "import pandas as pd\n",
    "import numpy as np\n",
    "import plotly\n",
    "from pathlib import Path\n",
    "import plotly.express as px\n",
    "import plotly.graph_objects as go\n",
    "from tqdm.auto import tqdm\n",
    "\n",
    "from sklearn.metrics import f1_score\n",
    "from sklearn.model_selection import KFold\n",
    "from lightgbm import LGBMClassifier\n",
    "import joblib"
   ]
  },
  {
   "cell_type": "code",
   "execution_count": 2,
   "id": "2a74945e",
   "metadata": {},
   "outputs": [],
   "source": [
    "df = pd.read_csv(Path('../data/train.csv'))"
   ]
  },
  {
   "cell_type": "code",
   "execution_count": 3,
   "id": "611268f3",
   "metadata": {},
   "outputs": [],
   "source": [
    "df = df.sort_values(['id', 'time'])"
   ]
  },
  {
   "cell_type": "code",
   "execution_count": 4,
   "id": "b7ab26d8",
   "metadata": {},
   "outputs": [],
   "source": [
    "samples = df['id'].unique()\n",
    "WINDOW_SIZE = 25\n",
    "HALF_WINDOW = int((WINDOW_SIZE-1)/2)\n",
    "QART_WINDOW = int((WINDOW_SIZE-1)/4)\n",
    "LOW_BOUND = 380\n",
    "UPPER_BOUND = 1400"
   ]
  },
  {
   "cell_type": "code",
   "execution_count": 5,
   "id": "8903f031",
   "metadata": {},
   "outputs": [],
   "source": [
    "def pop_arr(arr, num):\n",
    "    s = len(arr)\n",
    "    return np.resize(np.repeat(np.resize(arr[:s], (1,s)), num, axis=0), (num*s,))"
   ]
  },
  {
   "cell_type": "code",
   "execution_count": 6,
   "id": "14c6a900",
   "metadata": {},
   "outputs": [],
   "source": [
    "def timedomain(rr, mask):\n",
    "    results = {}\n",
    "    \n",
    "    rr = rr[mask==1]\n",
    "    \n",
    "    if len(rr) > 1:\n",
    "        hr = 60000/rr\n",
    "    \n",
    "        results['mean_RR'] = np.mean(rr)\n",
    "        results['std_rr_sdnn'] = np.std(rr)\n",
    "        results['mean_hr_kubious'] = 60000/np.mean(rr)\n",
    "        results['mean_hr'] = np.mean(hr)\n",
    "        results['std_hr'] = np.std(hr)\n",
    "        results['min_hr'] = np.min(hr)\n",
    "        results['max_hr'] = np.max(hr)\n",
    "        results['rmssd'] = np.sqrt(np.mean(np.square(np.diff(rr))))\n",
    "        results['nn_xx'] = np.sum(np.abs(np.diff(rr)) > 50)*1\n",
    "        results['pnn_xx'] = 100 * np.sum((np.abs(np.diff(rr)) > 50)*1) / len(rr)\n",
    "    else:\n",
    "        results['mean_RR'] = 0\n",
    "        results['std_rr_sdnn'] = 0\n",
    "        results['mean_hr_kubious'] = 0\n",
    "        results['mean_hr'] = 0\n",
    "        results['std_hr'] = 0\n",
    "        results['min_hr'] = 0\n",
    "        results['max_hr'] = 0\n",
    "        results['rmssd'] = 0\n",
    "        results['nn_xx'] = 0\n",
    "        results['pnn_xx'] = 0\n",
    "\n",
    "    return results"
   ]
  },
  {
   "cell_type": "code",
   "execution_count": 7,
   "id": "f7d8937f",
   "metadata": {},
   "outputs": [
    {
     "data": {
      "application/vnd.jupyter.widget-view+json": {
       "model_id": "518fc8da827a46a4be62fd8c40c8cb8b",
       "version_major": 2,
       "version_minor": 0
      },
      "text/plain": [
       "  0%|          | 0/229 [00:00<?, ?it/s]"
      ]
     },
     "metadata": {},
     "output_type": "display_data"
    }
   ],
   "source": [
    "new_df = []\n",
    "for sample in tqdm(samples):\n",
    "    # get array\n",
    "    loc_df = df[df.id==sample].sort_values('time').reset_index(drop=True)\n",
    "    arr = loc_df['x'].values\n",
    "    \n",
    "    target = loc_df['y'].values\n",
    "    \n",
    "    time = loc_df['time'].values\n",
    "    \n",
    "    mask = ((arr>LOW_BOUND) & (arr < UPPER_BOUND)).astype(int)\n",
    "    # ext array with 8 points to each direction\n",
    "    \n",
    "    arr = np.concatenate((\n",
    "        pop_arr(arr[:2], QART_WINDOW),\n",
    "        arr,\n",
    "        pop_arr(arr[-2:], QART_WINDOW),\n",
    "    ))\n",
    "    \n",
    "    mask = np.concatenate((\n",
    "        pop_arr([0], HALF_WINDOW),\n",
    "        mask,\n",
    "        pop_arr([0], HALF_WINDOW)\n",
    "    ))\n",
    "    for i in range(HALF_WINDOW+1, len(arr)-HALF_WINDOW+1):\n",
    "        local_window = arr[i-HALF_WINDOW-1:i+HALF_WINDOW+2]\n",
    "        local_mask = mask[i-HALF_WINDOW-1:i+HALF_WINDOW+2]\n",
    "        new_df.append({'id': sample, \n",
    "                       'ts': time[i-HALF_WINDOW-1],\n",
    "                       **{f\"x_{x}\":y for x,y in zip(range(-8,9), local_window)},\n",
    "                      'target': target[i-HALF_WINDOW-1],\n",
    "                       **{f\"mask_{x}\":y for x,y in zip(range(-8,9), local_mask)},\n",
    "                       **timedomain(local_window, local_mask),\n",
    "                       **{f\"delta_{x}\":y for x,y in zip(range(WINDOW_SIZE-1), np.diff(local_window))},\n",
    "                      })\n"
   ]
  },
  {
   "cell_type": "code",
   "execution_count": 8,
   "id": "338cd8c4",
   "metadata": {},
   "outputs": [],
   "source": [
    "new_df=pd.DataFrame(new_df)"
   ]
  },
  {
   "cell_type": "code",
   "execution_count": 9,
   "id": "639a0d3d",
   "metadata": {},
   "outputs": [
    {
     "data": {
      "text/plain": [
       "(60487, 71)"
      ]
     },
     "execution_count": 9,
     "metadata": {},
     "output_type": "execute_result"
    }
   ],
   "source": [
    "new_df.shape"
   ]
  },
  {
   "cell_type": "code",
   "execution_count": 10,
   "id": "e4854c84",
   "metadata": {},
   "outputs": [],
   "source": [
    "from sklearn.metrics import roc_curve, precision_recall_curve, f1_score\n",
    "\n",
    "def threshold_search(y_true, y_proba):\n",
    "    precision , recall, thresholds = precision_recall_curve(y_true, y_proba)\n",
    "    thresholds = np.append(thresholds, 1.001) \n",
    "    F = 2 / (1 / (precision + 1e-18) + 1 / (recall + 1e-18))\n",
    "    F[F>1.0] = 0\n",
    "    best_score = np.max(F)\n",
    "    best_th = thresholds[np.argmax(F)]\n",
    "    return best_th , best_score"
   ]
  },
  {
   "cell_type": "code",
   "execution_count": 11,
   "id": "5c8405da",
   "metadata": {},
   "outputs": [],
   "source": [
    "lgbm_params = {\n",
    "    'class_weight': 'balanced',\n",
    "    'colsample_bytree': 0.7601761436423559,\n",
    "    'learning_rate': 0.0032229857347791584,\n",
    "    'min_child_samples': 35,\n",
    "    'min_split_gain': 0.23401305259347366,\n",
    "    'num_leaves': 78,\n",
    "    'reg_alpha': 0.012458045234238267,\n",
    "    'reg_lambda': 1.1061281247384551,\n",
    "    'subsample': 0.6527164692215225,\n",
    "    'subsample_freq': 9,\n",
    "    'boosting_type': 'gbdt',  \n",
    "    'objective': 'binary',  \n",
    "    'n_estimators': 3000, \n",
    "    'random_state': 13\n",
    "}"
   ]
  },
  {
   "cell_type": "code",
   "execution_count": 12,
   "id": "f18c4fe4",
   "metadata": {},
   "outputs": [],
   "source": [
    "drop_cols = ['id', 'ts', 'target']\n",
    "traget_col = 'target'"
   ]
  },
  {
   "cell_type": "code",
   "execution_count": 13,
   "id": "fb8aab89",
   "metadata": {},
   "outputs": [
    {
     "name": "stdout",
     "output_type": "stream",
     "text": [
      "{'outer_fold': 0, 'inner_fold': 0, 'th': 0.5657908885761026, 'test_f1': 0.8664987405541561, 'val_f1': 0.8413954851949575}\n",
      "{'outer_fold': 0, 'inner_fold': 1, 'th': 0.5529787833180821, 'test_f1': 0.8620462046204621, 'val_f1': 0.8364365511314809}\n",
      "{'outer_fold': 0, 'inner_fold': 2, 'th': 0.6557861618651933, 'test_f1': 0.7162764771460425, 'val_f1': 0.8505611340815121}\n",
      "{'outer_fold': 0, 'inner_fold': 3, 'th': 0.5979417937866851, 'test_f1': 0.8760669170365312, 'val_f1': 0.8397660818713448}\n",
      "{'outer_fold': 0, 'inner_fold': 4, 'th': 0.594316378026916, 'test_f1': 0.8688109866281172, 'val_f1': 0.8302872062663185}\n",
      "{'outer_fold': 1, 'inner_fold': 0, 'th': 0.7265470665979523, 'test_f1': 0.8615494978479196, 'val_f1': 0.7608591885441527}\n",
      "{'outer_fold': 1, 'inner_fold': 1, 'th': 0.671881389666264, 'test_f1': 0.862937062937063, 'val_f1': 0.7586044318717586}\n",
      "{'outer_fold': 1, 'inner_fold': 2, 'th': 0.6974402504102639, 'test_f1': 0.8510329829648423, 'val_f1': 0.7580908032596042}\n",
      "{'outer_fold': 1, 'inner_fold': 3, 'th': 0.6763161630579377, 'test_f1': 0.8594285714285714, 'val_f1': 0.7505882352941177}\n",
      "{'outer_fold': 1, 'inner_fold': 4, 'th': 0.6878376322221791, 'test_f1': 0.8738147337709701, 'val_f1': 0.758765778401122}\n",
      "{'outer_fold': 2, 'inner_fold': 0, 'th': 0.6639518122387299, 'test_f1': 0.6947199142321094, 'val_f1': 0.8747178329571107}\n",
      "{'outer_fold': 2, 'inner_fold': 1, 'th': 0.6247960004798465, 'test_f1': 0.8671848597499154, 'val_f1': 0.8566503878195921}\n",
      "{'outer_fold': 2, 'inner_fold': 2, 'th': 0.48031293481609527, 'test_f1': 0.8304177079614424, 'val_f1': 0.8526543878656555}\n",
      "{'outer_fold': 2, 'inner_fold': 3, 'th': 0.5796819226708501, 'test_f1': 0.878646020885848, 'val_f1': 0.8563316297558206}\n",
      "{'outer_fold': 2, 'inner_fold': 4, 'th': 0.5825330850032494, 'test_f1': 0.8547410894418291, 'val_f1': 0.8521689497716894}\n",
      "{'outer_fold': 3, 'inner_fold': 0, 'th': 0.5125500471721797, 'test_f1': 0.832306639288159, 'val_f1': 0.8658836383501775}\n",
      "{'outer_fold': 3, 'inner_fold': 1, 'th': 0.5721014994925183, 'test_f1': 0.7041002872812746, 'val_f1': 0.8695891921698374}\n",
      "{'outer_fold': 3, 'inner_fold': 2, 'th': 0.5930866985353314, 'test_f1': 0.8644314868804663, 'val_f1': 0.8614357262103507}\n",
      "{'outer_fold': 3, 'inner_fold': 3, 'th': 0.4946572873173078, 'test_f1': 0.8777452415812592, 'val_f1': 0.8676071622354856}\n",
      "{'outer_fold': 3, 'inner_fold': 4, 'th': 0.6025679659878045, 'test_f1': 0.8765228844254197, 'val_f1': 0.8624930128563442}\n",
      "{'outer_fold': 4, 'inner_fold': 0, 'th': 0.6579573658783242, 'test_f1': 0.6837460859664104, 'val_f1': 0.8860619469026548}\n",
      "{'outer_fold': 4, 'inner_fold': 1, 'th': 0.6601580713357189, 'test_f1': 0.864471403812825, 'val_f1': 0.8836038052602126}\n",
      "{'outer_fold': 4, 'inner_fold': 2, 'th': 0.5884098654761409, 'test_f1': 0.8544423440453687, 'val_f1': 0.8829670329670329}\n",
      "{'outer_fold': 4, 'inner_fold': 3, 'th': 0.721573976580024, 'test_f1': 0.85310119695321, 'val_f1': 0.8823362631131273}\n",
      "{'outer_fold': 4, 'inner_fold': 4, 'th': 0.6984721389430837, 'test_f1': 0.8866268866268866, 'val_f1': 0.8785413744740534}\n"
     ]
    }
   ],
   "source": [
    "kf = KFold(n_splits=5, shuffle=True, random_state=42)\n",
    "inner_kf = KFold(n_splits=5, shuffle=True, random_state=239)\n",
    "\n",
    "df_ids = df['id'].unique()\n",
    "folds_data = []\n",
    "\n",
    "predicts = dict()\n",
    "\n",
    "for outer_fold, (train_id, val_id) in enumerate(kf.split(df_ids)):\n",
    "\n",
    "    outer_train_samples = df_ids[train_id]\n",
    "    outer_val_samples = df_ids[val_id]\n",
    "    \n",
    "    outer_train_df = new_df[new_df.id.isin(outer_train_samples)]\n",
    "    outer_val_df = new_df[new_df.id.isin(outer_val_samples)]\n",
    "    \n",
    "    predicts[outer_fold] = []\n",
    "    \n",
    "    for inner_fold, (inner_train_id, inner_val_id) in enumerate(inner_kf.split(outer_train_samples)):\n",
    "        model = LGBMClassifier(**lgbm_params)\n",
    "        inner_train_samples = outer_train_samples[inner_train_id]\n",
    "        inner_val_samples = outer_train_samples[inner_val_id]\n",
    "        \n",
    "        inner_train_df = new_df[new_df.id.isin(inner_train_samples)]\n",
    "        inner_val_df = new_df[new_df.id.isin(inner_val_samples)].reset_index(drop=True)\n",
    "    \n",
    "        model.fit(inner_train_df.drop(columns=drop_cols), inner_train_df[traget_col],\n",
    "                  eval_set = (outer_val_df.drop(columns=drop_cols),\n",
    "                              outer_val_df[traget_col]),\n",
    "                  early_stopping_rounds=150,\n",
    "                  eval_metric='logloss',\n",
    "                  verbose=False)\n",
    "        \n",
    "        joblib.dump(model, f\"lgbm_model_o{outer_fold}_i{inner_fold}.joblib\")\n",
    "        \n",
    "        valid_y_true = outer_val_df[traget_col].values\n",
    "        valid_y_proba = model.predict_proba(outer_val_df.drop(columns=drop_cols))[:,1]\n",
    "        best_th , best_score = threshold_search(valid_y_true, valid_y_proba)\n",
    "                     \n",
    "\n",
    "        inner_test_y_true = inner_val_df[traget_col].values.astype(int)\n",
    "        inner_test_y_predict = model.predict_proba(inner_val_df.drop(columns=drop_cols))[:,1]\n",
    "        inner_val_df['predict'] = inner_test_y_predict\n",
    "        \n",
    "        predicts[outer_fold].append(inner_val_df[['id', 'ts', 'predict']])\n",
    "        \n",
    "        score = f1_score(inner_test_y_true, (inner_test_y_predict > best_th).astype(int))\n",
    "        \n",
    "        fold_data = {\"outer_fold\": outer_fold, \n",
    "                     \"inner_fold\": inner_fold, \n",
    "                     \"th\": best_th, \n",
    "                     \"test_f1\": score, \n",
    "                     \"val_f1\": best_score}\n",
    "        folds_data.append(fold_data)\n",
    "        print(fold_data)\n"
   ]
  },
  {
   "cell_type": "code",
   "execution_count": 14,
   "id": "8b36877c",
   "metadata": {},
   "outputs": [],
   "source": [
    "results = pd.DataFrame(folds_data)"
   ]
  },
  {
   "cell_type": "code",
   "execution_count": 15,
   "id": "5c964714",
   "metadata": {},
   "outputs": [
    {
     "data": {
      "text/plain": [
       "0.8368666489626839"
      ]
     },
     "execution_count": 15,
     "metadata": {},
     "output_type": "execute_result"
    }
   ],
   "source": [
    "results.test_f1.mean()"
   ]
  },
  {
   "cell_type": "code",
   "execution_count": 16,
   "id": "37cb62d7",
   "metadata": {},
   "outputs": [
    {
     "data": {
      "text/plain": [
       "0.8407358895450208"
      ]
     },
     "execution_count": 16,
     "metadata": {},
     "output_type": "execute_result"
    }
   ],
   "source": [
    "results.val_f1.mean()"
   ]
  },
  {
   "cell_type": "code",
   "execution_count": 18,
   "id": "510c31df",
   "metadata": {},
   "outputs": [
    {
     "data": {
      "text/plain": [
       "0.6183858871781912"
      ]
     },
     "execution_count": 18,
     "metadata": {},
     "output_type": "execute_result"
    }
   ],
   "source": [
    "results.th.mean()"
   ]
  },
  {
   "cell_type": "code",
   "execution_count": 52,
   "id": "21a00359",
   "metadata": {},
   "outputs": [],
   "source": [
    "df_feat = df[['id', 'time']].copy()"
   ]
  },
  {
   "cell_type": "code",
   "execution_count": 53,
   "id": "55b6028f",
   "metadata": {},
   "outputs": [],
   "source": [
    "for i,v in predicts.items():\n",
    "    part_df = pd.concat(v)\n",
    "    part_df.columns = ['id', 'time', i]\n",
    "    df_feat = df_feat.merge(part_df, how='left', left_on=['id', 'time'], right_on=['id', 'time'])"
   ]
  },
  {
   "cell_type": "code",
   "execution_count": 58,
   "id": "8fbf119d",
   "metadata": {},
   "outputs": [
    {
     "data": {
      "text/html": [
       "<div>\n",
       "<style scoped>\n",
       "    .dataframe tbody tr th:only-of-type {\n",
       "        vertical-align: middle;\n",
       "    }\n",
       "\n",
       "    .dataframe tbody tr th {\n",
       "        vertical-align: top;\n",
       "    }\n",
       "\n",
       "    .dataframe thead th {\n",
       "        text-align: right;\n",
       "    }\n",
       "</style>\n",
       "<table border=\"1\" class=\"dataframe\">\n",
       "  <thead>\n",
       "    <tr style=\"text-align: right;\">\n",
       "      <th></th>\n",
       "      <th>id</th>\n",
       "      <th>time</th>\n",
       "      <th>0</th>\n",
       "      <th>1</th>\n",
       "      <th>2</th>\n",
       "      <th>3</th>\n",
       "      <th>4</th>\n",
       "    </tr>\n",
       "  </thead>\n",
       "  <tbody>\n",
       "    <tr>\n",
       "      <th>0</th>\n",
       "      <td>1</td>\n",
       "      <td>0</td>\n",
       "      <td>0.014039</td>\n",
       "      <td>0.057720</td>\n",
       "      <td>NaN</td>\n",
       "      <td>0.029558</td>\n",
       "      <td>0.010225</td>\n",
       "    </tr>\n",
       "    <tr>\n",
       "      <th>1</th>\n",
       "      <td>1</td>\n",
       "      <td>780</td>\n",
       "      <td>0.022028</td>\n",
       "      <td>0.059655</td>\n",
       "      <td>NaN</td>\n",
       "      <td>0.030751</td>\n",
       "      <td>0.004688</td>\n",
       "    </tr>\n",
       "    <tr>\n",
       "      <th>2</th>\n",
       "      <td>1</td>\n",
       "      <td>1572</td>\n",
       "      <td>0.013267</td>\n",
       "      <td>0.057079</td>\n",
       "      <td>NaN</td>\n",
       "      <td>0.024134</td>\n",
       "      <td>0.007385</td>\n",
       "    </tr>\n",
       "    <tr>\n",
       "      <th>3</th>\n",
       "      <td>1</td>\n",
       "      <td>2392</td>\n",
       "      <td>0.019658</td>\n",
       "      <td>0.071962</td>\n",
       "      <td>NaN</td>\n",
       "      <td>0.043476</td>\n",
       "      <td>0.021869</td>\n",
       "    </tr>\n",
       "    <tr>\n",
       "      <th>4</th>\n",
       "      <td>1</td>\n",
       "      <td>3196</td>\n",
       "      <td>0.022806</td>\n",
       "      <td>0.067860</td>\n",
       "      <td>NaN</td>\n",
       "      <td>0.038839</td>\n",
       "      <td>0.010556</td>\n",
       "    </tr>\n",
       "    <tr>\n",
       "      <th>...</th>\n",
       "      <td>...</td>\n",
       "      <td>...</td>\n",
       "      <td>...</td>\n",
       "      <td>...</td>\n",
       "      <td>...</td>\n",
       "      <td>...</td>\n",
       "      <td>...</td>\n",
       "    </tr>\n",
       "    <tr>\n",
       "      <th>60482</th>\n",
       "      <td>275</td>\n",
       "      <td>115360</td>\n",
       "      <td>0.974030</td>\n",
       "      <td>0.884394</td>\n",
       "      <td>0.984954</td>\n",
       "      <td>0.971759</td>\n",
       "      <td>NaN</td>\n",
       "    </tr>\n",
       "    <tr>\n",
       "      <th>60483</th>\n",
       "      <td>275</td>\n",
       "      <td>115912</td>\n",
       "      <td>0.952401</td>\n",
       "      <td>0.811262</td>\n",
       "      <td>0.970726</td>\n",
       "      <td>0.958469</td>\n",
       "      <td>NaN</td>\n",
       "    </tr>\n",
       "    <tr>\n",
       "      <th>60484</th>\n",
       "      <td>275</td>\n",
       "      <td>116464</td>\n",
       "      <td>0.653215</td>\n",
       "      <td>0.655431</td>\n",
       "      <td>0.714523</td>\n",
       "      <td>0.718442</td>\n",
       "      <td>NaN</td>\n",
       "    </tr>\n",
       "    <tr>\n",
       "      <th>60485</th>\n",
       "      <td>275</td>\n",
       "      <td>117020</td>\n",
       "      <td>0.180580</td>\n",
       "      <td>0.257770</td>\n",
       "      <td>0.156364</td>\n",
       "      <td>0.164410</td>\n",
       "      <td>NaN</td>\n",
       "    </tr>\n",
       "    <tr>\n",
       "      <th>60486</th>\n",
       "      <td>275</td>\n",
       "      <td>117572</td>\n",
       "      <td>0.022131</td>\n",
       "      <td>0.053656</td>\n",
       "      <td>0.036663</td>\n",
       "      <td>0.017426</td>\n",
       "      <td>NaN</td>\n",
       "    </tr>\n",
       "  </tbody>\n",
       "</table>\n",
       "<p>60487 rows × 7 columns</p>\n",
       "</div>"
      ],
      "text/plain": [
       "        id    time         0         1         2         3         4\n",
       "0        1       0  0.014039  0.057720       NaN  0.029558  0.010225\n",
       "1        1     780  0.022028  0.059655       NaN  0.030751  0.004688\n",
       "2        1    1572  0.013267  0.057079       NaN  0.024134  0.007385\n",
       "3        1    2392  0.019658  0.071962       NaN  0.043476  0.021869\n",
       "4        1    3196  0.022806  0.067860       NaN  0.038839  0.010556\n",
       "...    ...     ...       ...       ...       ...       ...       ...\n",
       "60482  275  115360  0.974030  0.884394  0.984954  0.971759       NaN\n",
       "60483  275  115912  0.952401  0.811262  0.970726  0.958469       NaN\n",
       "60484  275  116464  0.653215  0.655431  0.714523  0.718442       NaN\n",
       "60485  275  117020  0.180580  0.257770  0.156364  0.164410       NaN\n",
       "60486  275  117572  0.022131  0.053656  0.036663  0.017426       NaN\n",
       "\n",
       "[60487 rows x 7 columns]"
      ]
     },
     "execution_count": 58,
     "metadata": {},
     "output_type": "execute_result"
    }
   ],
   "source": [
    "df_feat"
   ]
  },
  {
   "cell_type": "code",
   "execution_count": 19,
   "id": "76335958",
   "metadata": {},
   "outputs": [],
   "source": [
    "from scipy.stats import gmean"
   ]
  },
  {
   "cell_type": "code",
   "execution_count": null,
   "id": "29737803",
   "metadata": {},
   "outputs": [],
   "source": [
    "def gmean(x):\n",
    "    "
   ]
  },
  {
   "cell_type": "code",
   "execution_count": 63,
   "id": "3367e69d",
   "metadata": {},
   "outputs": [],
   "source": [
    "df_feat['mean'] = df_feat[[0, 1, 2, 3, 4]].mean(axis=1)"
   ]
  },
  {
   "cell_type": "code",
   "execution_count": 65,
   "id": "4ed06371",
   "metadata": {},
   "outputs": [
    {
     "data": {
      "text/plain": [
       "['feat.joblib']"
      ]
     },
     "execution_count": 65,
     "metadata": {},
     "output_type": "execute_result"
    }
   ],
   "source": [
    "joblib.dump(df_feat[['id', 'time', 'mean']], 'feat.joblib')"
   ]
  },
  {
   "cell_type": "code",
   "execution_count": 21,
   "id": "41a8bf1e",
   "metadata": {},
   "outputs": [
    {
     "ename": "NameError",
     "evalue": "name 'df_feat' is not defined",
     "output_type": "error",
     "traceback": [
      "\u001b[1;31m---------------------------------------------------------------------------\u001b[0m",
      "\u001b[1;31mNameError\u001b[0m                                 Traceback (most recent call last)",
      "\u001b[1;32m<ipython-input-21-288e6f7bc7fb>\u001b[0m in \u001b[0;36m<module>\u001b[1;34m\u001b[0m\n\u001b[1;32m----> 1\u001b[1;33m \u001b[0mdf_feat\u001b[0m\u001b[1;33m[\u001b[0m\u001b[1;33m[\u001b[0m\u001b[1;36m0\u001b[0m\u001b[1;33m,\u001b[0m \u001b[1;36m1\u001b[0m\u001b[1;33m,\u001b[0m \u001b[1;36m2\u001b[0m\u001b[1;33m,\u001b[0m \u001b[1;36m3\u001b[0m\u001b[1;33m,\u001b[0m \u001b[1;36m4\u001b[0m\u001b[1;33m]\u001b[0m\u001b[1;33m]\u001b[0m\u001b[1;33m.\u001b[0m\u001b[0mloc\u001b[0m\u001b[1;33m[\u001b[0m\u001b[1;36m0\u001b[0m\u001b[1;33m]\u001b[0m\u001b[1;33m\u001b[0m\u001b[1;33m\u001b[0m\u001b[0m\n\u001b[0m",
      "\u001b[1;31mNameError\u001b[0m: name 'df_feat' is not defined"
     ]
    }
   ],
   "source": [
    "df_feat[[0, 1, 2, 3, 4]].loc[0]"
   ]
  },
  {
   "cell_type": "code",
   "execution_count": null,
   "id": "cf72b755",
   "metadata": {},
   "outputs": [],
   "source": []
  }
 ],
 "metadata": {
  "kernelspec": {
   "display_name": "Python 3",
   "language": "python",
   "name": "python3"
  },
  "language_info": {
   "codemirror_mode": {
    "name": "ipython",
    "version": 3
   },
   "file_extension": ".py",
   "mimetype": "text/x-python",
   "name": "python",
   "nbconvert_exporter": "python",
   "pygments_lexer": "ipython3",
   "version": "3.8.6"
  },
  "toc": {
   "base_numbering": 1,
   "nav_menu": {},
   "number_sections": true,
   "sideBar": true,
   "skip_h1_title": false,
   "title_cell": "Table of Contents",
   "title_sidebar": "Contents",
   "toc_cell": false,
   "toc_position": {},
   "toc_section_display": true,
   "toc_window_display": false
  }
 },
 "nbformat": 4,
 "nbformat_minor": 5
}
