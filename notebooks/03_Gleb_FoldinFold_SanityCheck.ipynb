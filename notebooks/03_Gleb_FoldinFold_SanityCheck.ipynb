{
 "cells": [
  {
   "cell_type": "code",
   "execution_count": 1,
   "id": "817c7bd3",
   "metadata": {},
   "outputs": [],
   "source": [
    "import pandas as pd\n",
    "import numpy as np\n",
    "import plotly\n",
    "from pathlib import Path\n",
    "import plotly.express as px\n",
    "import plotly.graph_objects as go\n",
    "from tqdm.auto import tqdm\n",
    "\n",
    "from sklearn.metrics import f1_score\n",
    "from sklearn.model_selection import KFold\n",
    "from lightgbm import LGBMClassifier\n",
    "import joblib"
   ]
  },
  {
   "cell_type": "code",
   "execution_count": 2,
   "id": "2a74945e",
   "metadata": {},
   "outputs": [],
   "source": [
    "df = pd.read_csv(Path('../data/train.csv'))"
   ]
  },
  {
   "cell_type": "code",
   "execution_count": 3,
   "id": "611268f3",
   "metadata": {},
   "outputs": [],
   "source": [
    "df = df.sort_values(['id', 'time'])"
   ]
  },
  {
   "cell_type": "code",
   "execution_count": 4,
   "id": "b7ab26d8",
   "metadata": {},
   "outputs": [],
   "source": [
    "samples = df['id'].unique()\n",
    "WINDOW_SIZE = 25\n",
    "HALF_WINDOW = int((WINDOW_SIZE-1)/2)\n",
    "QART_WINDOW = int((WINDOW_SIZE-1)/4)\n",
    "LOW_BOUND = 380\n",
    "UPPER_BOUND = 1400"
   ]
  },
  {
   "cell_type": "code",
   "execution_count": 5,
   "id": "8903f031",
   "metadata": {},
   "outputs": [],
   "source": [
    "def pop_arr(arr, num):\n",
    "    s = len(arr)\n",
    "    return np.resize(np.repeat(np.resize(arr[:s], (1,s)), num, axis=0), (num*s,))"
   ]
  },
  {
   "cell_type": "code",
   "execution_count": 6,
   "id": "14c6a900",
   "metadata": {},
   "outputs": [],
   "source": [
    "def timedomain(rr, mask):\n",
    "    results = {}\n",
    "    \n",
    "    rr = rr[mask==1]\n",
    "    \n",
    "    if len(rr) > 1:\n",
    "        hr = 60000/rr\n",
    "    \n",
    "        results['mean_RR'] = np.mean(rr)\n",
    "        results['std_rr_sdnn'] = np.std(rr)\n",
    "        results['mean_hr_kubious'] = 60000/np.mean(rr)\n",
    "        results['mean_hr'] = np.mean(hr)\n",
    "        results['std_hr'] = np.std(hr)\n",
    "        results['min_hr'] = np.min(hr)\n",
    "        results['max_hr'] = np.max(hr)\n",
    "        results['rmssd'] = np.sqrt(np.mean(np.square(np.diff(rr))))\n",
    "        results['nn_xx'] = np.sum(np.abs(np.diff(rr)) > 50)*1\n",
    "        results['pnn_xx'] = 100 * np.sum((np.abs(np.diff(rr)) > 50)*1) / len(rr)\n",
    "    else:\n",
    "        results['mean_RR'] = 0\n",
    "        results['std_rr_sdnn'] = 0\n",
    "        results['mean_hr_kubious'] = 0\n",
    "        results['mean_hr'] = 0\n",
    "        results['std_hr'] = 0\n",
    "        results['min_hr'] = 0\n",
    "        results['max_hr'] = 0\n",
    "        results['rmssd'] = 0\n",
    "        results['nn_xx'] = 0\n",
    "        results['pnn_xx'] = 0\n",
    "\n",
    "    return results"
   ]
  },
  {
   "cell_type": "code",
   "execution_count": 7,
   "id": "f7d8937f",
   "metadata": {},
   "outputs": [
    {
     "data": {
      "application/vnd.jupyter.widget-view+json": {
       "model_id": "e046555727c840f7a7c94309fd8ec391",
       "version_major": 2,
       "version_minor": 0
      },
      "text/plain": [
       "  0%|          | 0/229 [00:00<?, ?it/s]"
      ]
     },
     "metadata": {},
     "output_type": "display_data"
    }
   ],
   "source": [
    "new_df = []\n",
    "for sample in tqdm(samples):\n",
    "    # get array\n",
    "    loc_df = df[df.id==sample].sort_values('time').reset_index(drop=True)\n",
    "    arr = loc_df['x'].values\n",
    "    \n",
    "    target = loc_df['y'].values\n",
    "    \n",
    "    time = loc_df['time'].values\n",
    "    \n",
    "    mask = ((arr>LOW_BOUND) & (arr < UPPER_BOUND)).astype(int)\n",
    "    # ext array with 8 points to each direction\n",
    "    \n",
    "    arr = np.concatenate((\n",
    "        pop_arr(arr[:2], QART_WINDOW),\n",
    "        arr,\n",
    "        pop_arr(arr[-2:], QART_WINDOW),\n",
    "    ))\n",
    "    \n",
    "    mask = np.concatenate((\n",
    "        pop_arr([0], HALF_WINDOW),\n",
    "        mask,\n",
    "        pop_arr([0], HALF_WINDOW)\n",
    "    ))\n",
    "    for i in range(HALF_WINDOW+1, len(arr)-HALF_WINDOW+1):\n",
    "        local_window = arr[i-HALF_WINDOW-1:i+HALF_WINDOW+2]\n",
    "        local_mask = mask[i-HALF_WINDOW-1:i+HALF_WINDOW+2]\n",
    "        new_df.append({'id': sample, \n",
    "                       'ts': time[i-HALF_WINDOW-1],\n",
    "                       **{f\"x_{x}\":y for x,y in zip(range(-8,9), local_window)},\n",
    "                      'target': target[i-HALF_WINDOW-1],\n",
    "                       **{f\"mask_{x}\":y for x,y in zip(range(-8,9), local_mask)},\n",
    "                       **timedomain(local_window, local_mask),\n",
    "                       **{f\"delta_{x}\":y for x,y in zip(range(WINDOW_SIZE-1), np.diff(local_window))},\n",
    "                      })\n"
   ]
  },
  {
   "cell_type": "code",
   "execution_count": 8,
   "id": "338cd8c4",
   "metadata": {},
   "outputs": [],
   "source": [
    "new_df=pd.DataFrame(new_df)"
   ]
  },
  {
   "cell_type": "code",
   "execution_count": 9,
   "id": "639a0d3d",
   "metadata": {},
   "outputs": [
    {
     "data": {
      "text/plain": [
       "(60487, 63)"
      ]
     },
     "execution_count": 9,
     "metadata": {},
     "output_type": "execute_result"
    }
   ],
   "source": [
    "new_df.shape"
   ]
  },
  {
   "cell_type": "code",
   "execution_count": 10,
   "id": "e4854c84",
   "metadata": {},
   "outputs": [],
   "source": [
    "from sklearn.metrics import roc_curve, precision_recall_curve, f1_score\n",
    "\n",
    "def threshold_search(y_true, y_proba):\n",
    "    precision , recall, thresholds = precision_recall_curve(y_true, y_proba)\n",
    "    thresholds = np.append(thresholds, 1.001) \n",
    "    F = 2 / (1 / (precision + 1e-18) + 1 / (recall + 1e-18))\n",
    "    F[F>1.0] = 0\n",
    "    best_score = np.max(F)\n",
    "    best_th = thresholds[np.argmax(F)]\n",
    "    return best_th , best_score"
   ]
  },
  {
   "cell_type": "code",
   "execution_count": 11,
   "id": "5c8405da",
   "metadata": {},
   "outputs": [],
   "source": [
    "lgbm_params = {\n",
    "    'num_leaves': 52, \n",
    "    'learning_rate': 0.028067101239171117, \n",
    "    'class_weight': None, \n",
    "    'min_split_gain': 0.2079596284724723, \n",
    "    'min_child_samples': 26, \n",
    "    'subsample': 0.9964018869175387, \n",
    "    'subsample_freq': 3, \n",
    "    'colsample_bytree': 0.7621469158134937, \n",
    "    'reg_alpha': 0.0007822636610799144, \n",
    "    'reg_lambda': 4.076057666254058,\n",
    "    'boosting_type': 'gbdt',  \n",
    "    'objective': 'binary',  \n",
    "    'n_estimators': 3000, \n",
    "    'random_state': 13\n",
    "}"
   ]
  },
  {
   "cell_type": "code",
   "execution_count": 12,
   "id": "f18c4fe4",
   "metadata": {},
   "outputs": [],
   "source": [
    "drop_cols = ['id', 'ts', 'target']\n",
    "traget_col = 'target'"
   ]
  },
  {
   "cell_type": "code",
   "execution_count": 16,
   "id": "fb8aab89",
   "metadata": {},
   "outputs": [
    {
     "data": {
      "application/vnd.jupyter.widget-view+json": {
       "model_id": "7c12343c9f1b4faa8018b6e38c21c273",
       "version_major": 2,
       "version_minor": 0
      },
      "text/plain": [
       "o0:   0%|          | 0/5 [00:00<?, ?it/s]"
      ]
     },
     "metadata": {},
     "output_type": "display_data"
    },
    {
     "data": {
      "application/vnd.jupyter.widget-view+json": {
       "model_id": "2ece412c6fbc4769802617238531692f",
       "version_major": 2,
       "version_minor": 0
      },
      "text/plain": [
       "o1:   0%|          | 0/5 [00:00<?, ?it/s]"
      ]
     },
     "metadata": {},
     "output_type": "display_data"
    },
    {
     "data": {
      "application/vnd.jupyter.widget-view+json": {
       "model_id": "32d49b00668842edb824490b152b9bde",
       "version_major": 2,
       "version_minor": 0
      },
      "text/plain": [
       "o2:   0%|          | 0/5 [00:00<?, ?it/s]"
      ]
     },
     "metadata": {},
     "output_type": "display_data"
    },
    {
     "data": {
      "application/vnd.jupyter.widget-view+json": {
       "model_id": "227545f12a564015b8153dc2412085a2",
       "version_major": 2,
       "version_minor": 0
      },
      "text/plain": [
       "o3:   0%|          | 0/5 [00:00<?, ?it/s]"
      ]
     },
     "metadata": {},
     "output_type": "display_data"
    },
    {
     "data": {
      "application/vnd.jupyter.widget-view+json": {
       "model_id": "0ae2fe148c194031b152eb26257de739",
       "version_major": 2,
       "version_minor": 0
      },
      "text/plain": [
       "o4:   0%|          | 0/5 [00:00<?, ?it/s]"
      ]
     },
     "metadata": {},
     "output_type": "display_data"
    }
   ],
   "source": [
    "kf = KFold(n_splits=5, shuffle=True, random_state=42)\n",
    "\n",
    "predicts = dict()\n",
    "for outer_fold in range(5):\n",
    "    for inner_fold in tqdm(range(5), desc=f\"o{outer_fold}\"):\n",
    "        # load model\n",
    "        model = joblib.load(f\"lgbm_model_o{outer_fold}_i{inner_fold}.joblib\")\n",
    "        #make predict\n",
    "        predict = model.predict_proba(new_df.drop(columns=drop_cols))[:,1]\n",
    "        #store predict\n",
    "        predicts[f\"o{outer_fold}_i{inner_fold}\"] = predict"
   ]
  },
  {
   "cell_type": "code",
   "execution_count": 22,
   "id": "4e0d1cc1",
   "metadata": {},
   "outputs": [
    {
     "data": {
      "text/plain": [
       "0.922933157431838"
      ]
     },
     "execution_count": 22,
     "metadata": {},
     "output_type": "execute_result"
    }
   ],
   "source": [
    "th = 0.4\n",
    "f1_score(new_df.target.values.astype(int), (pd.DataFrame(predicts).mean(axis=1) > th).astype(int))"
   ]
  },
  {
   "cell_type": "code",
   "execution_count": 23,
   "id": "f70b423b",
   "metadata": {},
   "outputs": [
    {
     "data": {
      "text/plain": [
       "0.9233153422754234"
      ]
     },
     "execution_count": 23,
     "metadata": {},
     "output_type": "execute_result"
    }
   ],
   "source": [
    "th = 0.33471250635551086\n",
    "f1_score(new_df.target.values.astype(int), (pd.DataFrame(predicts).mean(axis=1) > th).astype(int))"
   ]
  },
  {
   "cell_type": "code",
   "execution_count": null,
   "id": "dbb8bfcc",
   "metadata": {},
   "outputs": [],
   "source": []
  }
 ],
 "metadata": {
  "kernelspec": {
   "display_name": "Python 3",
   "language": "python",
   "name": "python3"
  },
  "language_info": {
   "codemirror_mode": {
    "name": "ipython",
    "version": 3
   },
   "file_extension": ".py",
   "mimetype": "text/x-python",
   "name": "python",
   "nbconvert_exporter": "python",
   "pygments_lexer": "ipython3",
   "version": "3.8.6"
  },
  "toc": {
   "base_numbering": 1,
   "nav_menu": {},
   "number_sections": true,
   "sideBar": true,
   "skip_h1_title": false,
   "title_cell": "Table of Contents",
   "title_sidebar": "Contents",
   "toc_cell": false,
   "toc_position": {},
   "toc_section_display": true,
   "toc_window_display": false
  }
 },
 "nbformat": 4,
 "nbformat_minor": 5
}
