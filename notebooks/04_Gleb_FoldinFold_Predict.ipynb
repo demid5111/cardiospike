{
 "cells": [
  {
   "cell_type": "code",
   "execution_count": 1,
   "id": "817c7bd3",
   "metadata": {},
   "outputs": [],
   "source": [
    "import pandas as pd\n",
    "import numpy as np\n",
    "import plotly\n",
    "from pathlib import Path\n",
    "import plotly.express as px\n",
    "import plotly.graph_objects as go\n",
    "from tqdm.auto import tqdm\n",
    "\n",
    "from sklearn.metrics import f1_score\n",
    "from sklearn.model_selection import KFold\n",
    "from lightgbm import LGBMClassifier\n",
    "import joblib"
   ]
  },
  {
   "cell_type": "code",
   "execution_count": 2,
   "id": "2a74945e",
   "metadata": {},
   "outputs": [],
   "source": [
    "df = pd.read_csv(Path('../data/test.csv'))"
   ]
  },
  {
   "cell_type": "code",
   "execution_count": 3,
   "id": "611268f3",
   "metadata": {},
   "outputs": [],
   "source": [
    "df = df.sort_values(['id', 'time'])"
   ]
  },
  {
   "cell_type": "code",
   "execution_count": 4,
   "id": "b7ab26d8",
   "metadata": {},
   "outputs": [],
   "source": [
    "samples = df['id'].unique()\n",
    "WINDOW_SIZE = 25\n",
    "HALF_WINDOW = int((WINDOW_SIZE-1)/2)\n",
    "QART_WINDOW = int((WINDOW_SIZE-1)/4)\n",
    "LOW_BOUND = 380\n",
    "UPPER_BOUND = 1400"
   ]
  },
  {
   "cell_type": "code",
   "execution_count": 5,
   "id": "8903f031",
   "metadata": {},
   "outputs": [],
   "source": [
    "def pop_arr(arr, num):\n",
    "    s = len(arr)\n",
    "    return np.resize(np.repeat(np.resize(arr[:s], (1,s)), num, axis=0), (num*s,))"
   ]
  },
  {
   "cell_type": "code",
   "execution_count": 6,
   "id": "14c6a900",
   "metadata": {},
   "outputs": [],
   "source": [
    "def timedomain(rr, mask):\n",
    "    results = {}\n",
    "    \n",
    "    rr = rr[mask==1]\n",
    "    \n",
    "    if len(rr) > 1:\n",
    "        hr = 60000/rr\n",
    "    \n",
    "        results['mean_RR'] = np.mean(rr)\n",
    "        results['std_rr_sdnn'] = np.std(rr)\n",
    "        results['mean_hr_kubious'] = 60000/np.mean(rr)\n",
    "        results['mean_hr'] = np.mean(hr)\n",
    "        results['std_hr'] = np.std(hr)\n",
    "        results['min_hr'] = np.min(hr)\n",
    "        results['max_hr'] = np.max(hr)\n",
    "        results['rmssd'] = np.sqrt(np.mean(np.square(np.diff(rr))))\n",
    "        results['nn_xx'] = np.sum(np.abs(np.diff(rr)) > 50)*1\n",
    "        results['pnn_xx'] = 100 * np.sum((np.abs(np.diff(rr)) > 50)*1) / len(rr)\n",
    "    else:\n",
    "        results['mean_RR'] = 0\n",
    "        results['std_rr_sdnn'] = 0\n",
    "        results['mean_hr_kubious'] = 0\n",
    "        results['mean_hr'] = 0\n",
    "        results['std_hr'] = 0\n",
    "        results['min_hr'] = 0\n",
    "        results['max_hr'] = 0\n",
    "        results['rmssd'] = 0\n",
    "        results['nn_xx'] = 0\n",
    "        results['pnn_xx'] = 0\n",
    "\n",
    "    return results"
   ]
  },
  {
   "cell_type": "code",
   "execution_count": 7,
   "id": "f7d8937f",
   "metadata": {},
   "outputs": [
    {
     "data": {
      "application/vnd.jupyter.widget-view+json": {
       "model_id": "079270b18f434e8580133bc2d6e6bc32",
       "version_major": 2,
       "version_minor": 0
      },
      "text/plain": [
       "  0%|          | 0/46 [00:00<?, ?it/s]"
      ]
     },
     "metadata": {},
     "output_type": "display_data"
    }
   ],
   "source": [
    "new_df = []\n",
    "for sample in tqdm(samples):\n",
    "    # get array\n",
    "    loc_df = df[df.id==sample].sort_values('time').reset_index(drop=True)\n",
    "    arr = loc_df['x'].values\n",
    "    \n",
    "    target = np.zeros(len(arr))\n",
    "    \n",
    "    time = loc_df['time'].values\n",
    "    \n",
    "    mask = ((arr>LOW_BOUND) & (arr < UPPER_BOUND)).astype(int)\n",
    "    # ext array with 8 points to each direction\n",
    "    \n",
    "    arr = np.concatenate((\n",
    "        pop_arr(arr[:2], QART_WINDOW),\n",
    "        arr,\n",
    "        pop_arr(arr[-2:], QART_WINDOW),\n",
    "    ))\n",
    "    \n",
    "    mask = np.concatenate((\n",
    "        pop_arr([0], HALF_WINDOW),\n",
    "        mask,\n",
    "        pop_arr([0], HALF_WINDOW)\n",
    "    ))\n",
    "    for i in range(HALF_WINDOW+1, len(arr)-HALF_WINDOW+1):\n",
    "        local_window = arr[i-HALF_WINDOW-1:i+HALF_WINDOW+2]\n",
    "        local_mask = mask[i-HALF_WINDOW-1:i+HALF_WINDOW+2]\n",
    "        new_df.append({'id': sample, \n",
    "                       'ts': time[i-HALF_WINDOW-1],\n",
    "                       **{f\"x_{x}\":y for x,y in zip(range(-8,9), local_window)},\n",
    "                      'target': target[i-HALF_WINDOW-1],\n",
    "                       **{f\"mask_{x}\":y for x,y in zip(range(-8,9), local_mask)},\n",
    "                       **timedomain(local_window, local_mask),\n",
    "                       **{f\"delta_{x}\":y for x,y in zip(range(WINDOW_SIZE-1), np.diff(local_window))},\n",
    "                      })\n"
   ]
  },
  {
   "cell_type": "code",
   "execution_count": 8,
   "id": "338cd8c4",
   "metadata": {},
   "outputs": [],
   "source": [
    "new_df=pd.DataFrame(new_df)"
   ]
  },
  {
   "cell_type": "code",
   "execution_count": 9,
   "id": "639a0d3d",
   "metadata": {},
   "outputs": [
    {
     "data": {
      "text/plain": [
       "(15034, 71)"
      ]
     },
     "execution_count": 9,
     "metadata": {},
     "output_type": "execute_result"
    }
   ],
   "source": [
    "new_df.shape"
   ]
  },
  {
   "cell_type": "code",
   "execution_count": 10,
   "id": "1a138e17",
   "metadata": {},
   "outputs": [
    {
     "data": {
      "text/plain": [
       "(15034, 3)"
      ]
     },
     "execution_count": 10,
     "metadata": {},
     "output_type": "execute_result"
    }
   ],
   "source": [
    "df.shape"
   ]
  },
  {
   "cell_type": "code",
   "execution_count": 11,
   "id": "e4854c84",
   "metadata": {},
   "outputs": [],
   "source": [
    "from sklearn.metrics import roc_curve, precision_recall_curve, f1_score\n",
    "\n",
    "def threshold_search(y_true, y_proba):\n",
    "    precision , recall, thresholds = precision_recall_curve(y_true, y_proba)\n",
    "    thresholds = np.append(thresholds, 1.001) \n",
    "    F = 2 / (1 / (precision + 1e-18) + 1 / (recall + 1e-18))\n",
    "    F[F>1.0] = 0\n",
    "    best_score = np.max(F)\n",
    "    best_th = thresholds[np.argmax(F)]\n",
    "    return best_th , best_score"
   ]
  },
  {
   "cell_type": "code",
   "execution_count": 13,
   "id": "f18c4fe4",
   "metadata": {},
   "outputs": [],
   "source": [
    "drop_cols = ['id', 'ts', 'target']\n",
    "traget_col = 'target'"
   ]
  },
  {
   "cell_type": "code",
   "execution_count": 14,
   "id": "fb8aab89",
   "metadata": {},
   "outputs": [
    {
     "data": {
      "application/vnd.jupyter.widget-view+json": {
       "model_id": "2841fd7911f245a6a9a8cb7756463f12",
       "version_major": 2,
       "version_minor": 0
      },
      "text/plain": [
       "o0:   0%|          | 0/5 [00:00<?, ?it/s]"
      ]
     },
     "metadata": {},
     "output_type": "display_data"
    },
    {
     "data": {
      "application/vnd.jupyter.widget-view+json": {
       "model_id": "9c04ffa0b0864405bc79b80afe6f6eb1",
       "version_major": 2,
       "version_minor": 0
      },
      "text/plain": [
       "o1:   0%|          | 0/5 [00:00<?, ?it/s]"
      ]
     },
     "metadata": {},
     "output_type": "display_data"
    },
    {
     "data": {
      "application/vnd.jupyter.widget-view+json": {
       "model_id": "4519c32c604244faa6c0e017be94ce0a",
       "version_major": 2,
       "version_minor": 0
      },
      "text/plain": [
       "o2:   0%|          | 0/5 [00:00<?, ?it/s]"
      ]
     },
     "metadata": {},
     "output_type": "display_data"
    },
    {
     "data": {
      "application/vnd.jupyter.widget-view+json": {
       "model_id": "243cdad4e5284b479f3bd02c45997d51",
       "version_major": 2,
       "version_minor": 0
      },
      "text/plain": [
       "o3:   0%|          | 0/5 [00:00<?, ?it/s]"
      ]
     },
     "metadata": {},
     "output_type": "display_data"
    },
    {
     "data": {
      "application/vnd.jupyter.widget-view+json": {
       "model_id": "085e420b9a3d4328a89e9a1c1d189b57",
       "version_major": 2,
       "version_minor": 0
      },
      "text/plain": [
       "o4:   0%|          | 0/5 [00:00<?, ?it/s]"
      ]
     },
     "metadata": {},
     "output_type": "display_data"
    }
   ],
   "source": [
    "kf = KFold(n_splits=5, shuffle=True, random_state=42)\n",
    "\n",
    "predicts = dict()\n",
    "for outer_fold in range(5):\n",
    "    for inner_fold in tqdm(range(5), desc=f\"o{outer_fold}\"):\n",
    "        # load model\n",
    "        model = joblib.load(f\"lgbm_model_o{outer_fold}_i{inner_fold}.joblib\")\n",
    "        #make predict\n",
    "        predict = model.predict_proba(new_df.drop(columns=drop_cols))[:,1]\n",
    "        #store predict\n",
    "        predicts[f\"o{outer_fold}_i{inner_fold}\"] = predict"
   ]
  },
  {
   "cell_type": "code",
   "execution_count": 19,
   "id": "3c6d68d1",
   "metadata": {},
   "outputs": [],
   "source": [
    "th = 0.4"
   ]
  },
  {
   "cell_type": "code",
   "execution_count": 20,
   "id": "65026332",
   "metadata": {},
   "outputs": [],
   "source": [
    "new_df['predict'] = (pd.DataFrame(predicts).mean(axis=1) > th).astype(int)"
   ]
  },
  {
   "cell_type": "code",
   "execution_count": 25,
   "id": "dd516953",
   "metadata": {},
   "outputs": [],
   "source": [
    "new_df['proba']=pd.DataFrame(predicts).mean(axis=1)"
   ]
  },
  {
   "cell_type": "code",
   "execution_count": 21,
   "id": "c1d75385",
   "metadata": {},
   "outputs": [
    {
     "data": {
      "text/html": [
       "<div>\n",
       "<style scoped>\n",
       "    .dataframe tbody tr th:only-of-type {\n",
       "        vertical-align: middle;\n",
       "    }\n",
       "\n",
       "    .dataframe tbody tr th {\n",
       "        vertical-align: top;\n",
       "    }\n",
       "\n",
       "    .dataframe thead th {\n",
       "        text-align: right;\n",
       "    }\n",
       "</style>\n",
       "<table border=\"1\" class=\"dataframe\">\n",
       "  <thead>\n",
       "    <tr style=\"text-align: right;\">\n",
       "      <th></th>\n",
       "      <th>id</th>\n",
       "      <th>time</th>\n",
       "      <th>y</th>\n",
       "      <th>x</th>\n",
       "    </tr>\n",
       "  </thead>\n",
       "  <tbody>\n",
       "    <tr>\n",
       "      <th>0</th>\n",
       "      <td>8</td>\n",
       "      <td>0</td>\n",
       "      <td>0</td>\n",
       "      <td>748</td>\n",
       "    </tr>\n",
       "    <tr>\n",
       "      <th>1</th>\n",
       "      <td>8</td>\n",
       "      <td>744</td>\n",
       "      <td>0</td>\n",
       "      <td>744</td>\n",
       "    </tr>\n",
       "    <tr>\n",
       "      <th>2</th>\n",
       "      <td>8</td>\n",
       "      <td>1476</td>\n",
       "      <td>0</td>\n",
       "      <td>732</td>\n",
       "    </tr>\n",
       "    <tr>\n",
       "      <th>3</th>\n",
       "      <td>8</td>\n",
       "      <td>2208</td>\n",
       "      <td>0</td>\n",
       "      <td>732</td>\n",
       "    </tr>\n",
       "    <tr>\n",
       "      <th>4</th>\n",
       "      <td>8</td>\n",
       "      <td>2976</td>\n",
       "      <td>0</td>\n",
       "      <td>768</td>\n",
       "    </tr>\n",
       "    <tr>\n",
       "      <th>...</th>\n",
       "      <td>...</td>\n",
       "      <td>...</td>\n",
       "      <td>...</td>\n",
       "      <td>...</td>\n",
       "    </tr>\n",
       "    <tr>\n",
       "      <th>15029</th>\n",
       "      <td>274</td>\n",
       "      <td>94380</td>\n",
       "      <td>0</td>\n",
       "      <td>580</td>\n",
       "    </tr>\n",
       "    <tr>\n",
       "      <th>15030</th>\n",
       "      <td>274</td>\n",
       "      <td>95564</td>\n",
       "      <td>0</td>\n",
       "      <td>1184</td>\n",
       "    </tr>\n",
       "    <tr>\n",
       "      <th>15031</th>\n",
       "      <td>274</td>\n",
       "      <td>96156</td>\n",
       "      <td>0</td>\n",
       "      <td>592</td>\n",
       "    </tr>\n",
       "    <tr>\n",
       "      <th>15032</th>\n",
       "      <td>274</td>\n",
       "      <td>96740</td>\n",
       "      <td>0</td>\n",
       "      <td>584</td>\n",
       "    </tr>\n",
       "    <tr>\n",
       "      <th>15033</th>\n",
       "      <td>274</td>\n",
       "      <td>97332</td>\n",
       "      <td>0</td>\n",
       "      <td>592</td>\n",
       "    </tr>\n",
       "  </tbody>\n",
       "</table>\n",
       "<p>15034 rows × 4 columns</p>\n",
       "</div>"
      ],
      "text/plain": [
       "        id   time  y     x\n",
       "0        8      0  0   748\n",
       "1        8    744  0   744\n",
       "2        8   1476  0   732\n",
       "3        8   2208  0   732\n",
       "4        8   2976  0   768\n",
       "...    ...    ... ..   ...\n",
       "15029  274  94380  0   580\n",
       "15030  274  95564  0  1184\n",
       "15031  274  96156  0   592\n",
       "15032  274  96740  0   584\n",
       "15033  274  97332  0   592\n",
       "\n",
       "[15034 rows x 4 columns]"
      ]
     },
     "execution_count": 21,
     "metadata": {},
     "output_type": "execute_result"
    }
   ],
   "source": [
    "submit_df = new_df[['id', 'ts', 'predict']]\n",
    "submit_df.columns = ['id', 'time', 'y']\n",
    "submit_df = submit_df.merge(df[['id', 'time', 'x']], on=['id', 'time'])\n",
    "submit_df"
   ]
  },
  {
   "cell_type": "code",
   "execution_count": 40,
   "id": "cf804eff",
   "metadata": {},
   "outputs": [],
   "source": [
    "new_df.columns = ['id', 'time', 'x_-8', 'x_-7', 'x_-6', 'x_-5', 'x_-4', 'x_-3', 'x_-2',\n",
    "       'x_-1', 'x_0', 'x_1', 'x_2', 'x_3', 'x_4', 'x_5', 'x_6', 'x_7', 'x_8',\n",
    "       'target', 'mask_-8', 'mask_-7', 'mask_-6', 'mask_-5', 'mask_-4',\n",
    "       'mask_-3', 'mask_-2', 'mask_-1', 'mask_0', 'mask_1', 'mask_2', 'mask_3',\n",
    "       'mask_4', 'mask_5', 'mask_6', 'mask_7', 'mask_8', 'mean_RR',\n",
    "       'std_rr_sdnn', 'mean_hr_kubious', 'mean_hr', 'std_hr', 'min_hr',\n",
    "       'max_hr', 'rmssd', 'nn_xx', 'pnn_xx', 'delta_0', 'delta_1', 'delta_2',\n",
    "       'delta_3', 'delta_4', 'delta_5', 'delta_6', 'delta_7', 'delta_8',\n",
    "       'delta_9', 'delta_10', 'delta_11', 'delta_12', 'delta_13', 'delta_14',\n",
    "       'delta_15', 'delta_16', 'delta_17', 'delta_18', 'delta_19', 'delta_20',\n",
    "       'delta_21', 'delta_22', 'delta_23', 'predict', 'proba', 'gmean']"
   ]
  },
  {
   "cell_type": "code",
   "execution_count": 22,
   "id": "ff44879e",
   "metadata": {},
   "outputs": [],
   "source": [
    "submit_df[['id', 'time', 'x', 'y']].to_csv('submit_2_g_naive.csv', header=True, index=False)"
   ]
  },
  {
   "cell_type": "code",
   "execution_count": 23,
   "id": "570df230",
   "metadata": {},
   "outputs": [],
   "source": [
    "submit = pd.read_csv('../data/sample_submission.csv')"
   ]
  },
  {
   "cell_type": "code",
   "execution_count": 29,
   "id": "17d878b0",
   "metadata": {},
   "outputs": [],
   "source": [
    "submit.drop(columns=['y'], inplace=True)"
   ]
  },
  {
   "cell_type": "code",
   "execution_count": 30,
   "id": "99032281",
   "metadata": {},
   "outputs": [],
   "source": [
    "submit = submit.merge(submit_df[['id', 'time', 'y']], on=['id', 'time'])"
   ]
  },
  {
   "cell_type": "code",
   "execution_count": 32,
   "id": "a8f7dd45",
   "metadata": {},
   "outputs": [],
   "source": [
    "submit.to_csv('submit_2_g_naive.csv', header=True, index=False)"
   ]
  },
  {
   "cell_type": "code",
   "execution_count": 35,
   "id": "69cad283",
   "metadata": {},
   "outputs": [
    {
     "data": {
      "text/plain": [
       "['feat1_test.joblib']"
      ]
     },
     "execution_count": 35,
     "metadata": {},
     "output_type": "execute_result"
    }
   ],
   "source": [
    "joblib.dump(new_df[['id', 'ts', 'proba']], 'feat1_test.joblib')"
   ]
  },
  {
   "cell_type": "code",
   "execution_count": 37,
   "id": "9a61d193",
   "metadata": {},
   "outputs": [],
   "source": [
    "from scipy.stats import gmean\n",
    "def nan_gmean(x):\n",
    "    return gmean(x[~np.isnan(x)])"
   ]
  },
  {
   "cell_type": "code",
   "execution_count": 38,
   "id": "5b7f1754",
   "metadata": {},
   "outputs": [],
   "source": [
    "new_df['gmean']=pd.DataFrame(predicts).apply(nan_gmean,axis=1)"
   ]
  },
  {
   "cell_type": "code",
   "execution_count": 41,
   "id": "4cb7d931",
   "metadata": {},
   "outputs": [
    {
     "data": {
      "text/plain": [
       "['feat1_test_gmean.joblib']"
      ]
     },
     "execution_count": 41,
     "metadata": {},
     "output_type": "execute_result"
    }
   ],
   "source": [
    "joblib.dump(new_df[['id', 'time', 'gmean']], 'feat1_test_gmean.joblib')"
   ]
  },
  {
   "cell_type": "code",
   "execution_count": null,
   "id": "9c33a8f8",
   "metadata": {},
   "outputs": [],
   "source": []
  }
 ],
 "metadata": {
  "kernelspec": {
   "display_name": "Python 3",
   "language": "python",
   "name": "python3"
  },
  "language_info": {
   "codemirror_mode": {
    "name": "ipython",
    "version": 3
   },
   "file_extension": ".py",
   "mimetype": "text/x-python",
   "name": "python",
   "nbconvert_exporter": "python",
   "pygments_lexer": "ipython3",
   "version": "3.8.6"
  },
  "toc": {
   "base_numbering": 1,
   "nav_menu": {},
   "number_sections": true,
   "sideBar": true,
   "skip_h1_title": false,
   "title_cell": "Table of Contents",
   "title_sidebar": "Contents",
   "toc_cell": false,
   "toc_position": {},
   "toc_section_display": true,
   "toc_window_display": false
  }
 },
 "nbformat": 4,
 "nbformat_minor": 5
}
